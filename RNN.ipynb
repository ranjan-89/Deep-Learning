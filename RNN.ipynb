{
  "nbformat": 4,
  "nbformat_minor": 0,
  "metadata": {
    "colab": {
      "provenance": []
    },
    "kernelspec": {
      "name": "python3",
      "display_name": "Python 3"
    },
    "language_info": {
      "name": "python"
    }
  },
  "cells": [
    {
      "cell_type": "code",
      "execution_count": null,
      "metadata": {
        "id": "KZH7EB1a5wvr"
      },
      "outputs": [],
      "source": [
        "import numpy as np\n",
        "import pandas as pd\n",
        "import tensorflow as tf\n",
        "from tensorflow import keras\n",
        "import matplotlib.pyplot as plt\n",
        "import seaborn as sns\n",
        "import math\n",
        "import random\n",
        "from sklearn.preprocessing import MinMaxScaler"
      ]
    },
    {
      "cell_type": "code",
      "source": [
        "Training_data = pd.read_csv(\"/content/drive/MyDrive/Data set /Train.csv\")"
      ],
      "metadata": {
        "id": "6P-qfBa_6px5"
      },
      "execution_count": null,
      "outputs": []
    },
    {
      "cell_type": "code",
      "source": [
        "Testing_data = pd.read_csv(\"/content/drive/MyDrive/Data set /Test.csv\")"
      ],
      "metadata": {
        "id": "0OOgiq5c6ptZ"
      },
      "execution_count": null,
      "outputs": []
    },
    {
      "cell_type": "code",
      "source": [
        "Training_data.info()"
      ],
      "metadata": {
        "colab": {
          "base_uri": "https://localhost:8080/"
        },
        "id": "yDoIskpJ6pmY",
        "outputId": "bc6824bf-28e8-46d5-a41d-3697bcd3e02f"
      },
      "execution_count": null,
      "outputs": [
        {
          "output_type": "stream",
          "name": "stdout",
          "text": [
            "<class 'pandas.core.frame.DataFrame'>\n",
            "RangeIndex: 252 entries, 0 to 251\n",
            "Data columns (total 7 columns):\n",
            " #   Column     Non-Null Count  Dtype  \n",
            "---  ------     --------------  -----  \n",
            " 0   Date       252 non-null    object \n",
            " 1   Open       252 non-null    float64\n",
            " 2   High       252 non-null    float64\n",
            " 3   Low        252 non-null    float64\n",
            " 4   Close      252 non-null    float64\n",
            " 5   Adj Close  252 non-null    float64\n",
            " 6   Volume     252 non-null    int64  \n",
            "dtypes: float64(5), int64(1), object(1)\n",
            "memory usage: 13.9+ KB\n"
          ]
        }
      ]
    },
    {
      "cell_type": "code",
      "source": [
        "training_data=Training_data.iloc[:,1:2].values"
      ],
      "metadata": {
        "id": "iYnjUiGq7rZA"
      },
      "execution_count": null,
      "outputs": []
    },
    {
      "cell_type": "code",
      "source": [
        "training_data.shape, Training_data.shape"
      ],
      "metadata": {
        "colab": {
          "base_uri": "https://localhost:8080/"
        },
        "id": "lsxe_kBf8HYH",
        "outputId": "c37e014a-3b69-4308-871b-c7aed7af659a"
      },
      "execution_count": null,
      "outputs": [
        {
          "output_type": "execute_result",
          "data": {
            "text/plain": [
              "((252, 1), (252, 7))"
            ]
          },
          "metadata": {},
          "execution_count": 50
        }
      ]
    },
    {
      "cell_type": "code",
      "source": [
        "training_data[:5]"
      ],
      "metadata": {
        "colab": {
          "base_uri": "https://localhost:8080/"
        },
        "id": "4-OzeNzu8qE4",
        "outputId": "1a39c69a-8261-4c47-9b28-b12d69a9424d"
      },
      "execution_count": null,
      "outputs": [
        {
          "output_type": "execute_result",
          "data": {
            "text/plain": [
              "array([[107.389999],\n",
              "       [106.919998],\n",
              "       [107.389999],\n",
              "       [106.470001],\n",
              "       [107.690002]])"
            ]
          },
          "metadata": {},
          "execution_count": 51
        }
      ]
    },
    {
      "cell_type": "code",
      "source": [
        "sc=MinMaxScaler()\n",
        "scaled_training_data=sc.fit_transform(training_data)\n"
      ],
      "metadata": {
        "id": "CZqqPyI886LW"
      },
      "execution_count": null,
      "outputs": []
    },
    {
      "cell_type": "code",
      "source": [
        "scaled_training_data[:5]"
      ],
      "metadata": {
        "colab": {
          "base_uri": "https://localhost:8080/"
        },
        "id": "BXwDQTaZ-55L",
        "outputId": "baa773a6-e6a5-4bb3-ac11-5ab5265e8e3e"
      },
      "execution_count": null,
      "outputs": [
        {
          "output_type": "execute_result",
          "data": {
            "text/plain": [
              "array([[0.0597535 ],\n",
              "       [0.05090809],\n",
              "       [0.0597535 ],\n",
              "       [0.04243916],\n",
              "       [0.06539955]])"
            ]
          },
          "metadata": {},
          "execution_count": 53
        }
      ]
    },
    {
      "cell_type": "code",
      "source": [
        "X_train=[]\n",
        "y_train=[]\n",
        "\n",
        "for i in range(50,252):\n",
        "  X_train.append(scaled_training_data[i-50:i,0])\n",
        "  y_train.append(scaled_training_data[i,0])\n",
        "\n",
        "X_train=np.array(X_train)\n",
        "y_train=np.array(y_train)"
      ],
      "metadata": {
        "id": "dGDosLKe9bo8"
      },
      "execution_count": null,
      "outputs": []
    },
    {
      "cell_type": "code",
      "source": [
        "X_train.shape, y_train.shape"
      ],
      "metadata": {
        "colab": {
          "base_uri": "https://localhost:8080/"
        },
        "id": "o57BWcb_-haz",
        "outputId": "81ae4d81-3f9f-40dd-8739-5703dcbf4358"
      },
      "execution_count": null,
      "outputs": [
        {
          "output_type": "execute_result",
          "data": {
            "text/plain": [
              "((202, 50), (202,))"
            ]
          },
          "metadata": {},
          "execution_count": 55
        }
      ]
    },
    {
      "cell_type": "code",
      "source": [
        "#X_train=X_train.reshape(771,50,1)"
      ],
      "metadata": {
        "id": "YdQlYjzI_a-V"
      },
      "execution_count": null,
      "outputs": []
    },
    {
      "cell_type": "code",
      "source": [
        "#X_train.shape\n"
      ],
      "metadata": {
        "id": "HVVEw-ZrANoT"
      },
      "execution_count": null,
      "outputs": []
    },
    {
      "cell_type": "code",
      "source": [
        "model=keras.Sequential([keras.layers.SimpleRNN(100,activation=\"relu\",input_shape=(50,1), return_sequences=False),\n",
        "                        keras.layers.Dense(1,activation=\"linear\")])"
      ],
      "metadata": {
        "id": "KQGNg-lyAaUM"
      },
      "execution_count": null,
      "outputs": []
    },
    {
      "cell_type": "code",
      "source": [
        "model.compile(optimizer=\"adam\" , loss=\"mse\")"
      ],
      "metadata": {
        "id": "mjoEXbJPD-4y"
      },
      "execution_count": null,
      "outputs": []
    },
    {
      "cell_type": "code",
      "source": [
        "model.summary()"
      ],
      "metadata": {
        "colab": {
          "base_uri": "https://localhost:8080/"
        },
        "id": "wqriARV2EBg6",
        "outputId": "ef5d6ee0-51ba-4f7c-d442-8de103002431"
      },
      "execution_count": null,
      "outputs": [
        {
          "output_type": "stream",
          "name": "stdout",
          "text": [
            "Model: \"sequential_4\"\n",
            "_________________________________________________________________\n",
            " Layer (type)                Output Shape              Param #   \n",
            "=================================================================\n",
            " simple_rnn_2 (SimpleRNN)    (None, 100)               10200     \n",
            "                                                                 \n",
            " dense_4 (Dense)             (None, 1)                 101       \n",
            "                                                                 \n",
            "=================================================================\n",
            "Total params: 10301 (40.24 KB)\n",
            "Trainable params: 10301 (40.24 KB)\n",
            "Non-trainable params: 0 (0.00 Byte)\n",
            "_________________________________________________________________\n"
          ]
        }
      ]
    },
    {
      "cell_type": "code",
      "source": [
        "model.fit(X_train, y_train,epochs=100, batch_size=32)"
      ],
      "metadata": {
        "colab": {
          "base_uri": "https://localhost:8080/"
        },
        "id": "dwpOsZUCAbbr",
        "outputId": "374a315e-4a43-47a7-df4c-7bca36185213"
      },
      "execution_count": null,
      "outputs": [
        {
          "output_type": "stream",
          "name": "stdout",
          "text": [
            "Epoch 1/100\n",
            "7/7 [==============================] - 1s 11ms/step - loss: 0.1965\n",
            "Epoch 2/100\n",
            "7/7 [==============================] - 0s 12ms/step - loss: 0.0170\n",
            "Epoch 3/100\n",
            "7/7 [==============================] - 0s 10ms/step - loss: 0.0146\n",
            "Epoch 4/100\n",
            "7/7 [==============================] - 0s 14ms/step - loss: 0.0039\n",
            "Epoch 5/100\n",
            "7/7 [==============================] - 0s 11ms/step - loss: 0.0052\n",
            "Epoch 6/100\n",
            "7/7 [==============================] - 0s 11ms/step - loss: 0.0031\n",
            "Epoch 7/100\n",
            "7/7 [==============================] - 0s 11ms/step - loss: 0.0034\n",
            "Epoch 8/100\n",
            "7/7 [==============================] - 0s 11ms/step - loss: 0.0028\n",
            "Epoch 9/100\n",
            "7/7 [==============================] - 0s 11ms/step - loss: 0.0028\n",
            "Epoch 10/100\n",
            "7/7 [==============================] - 0s 11ms/step - loss: 0.0027\n",
            "Epoch 11/100\n",
            "7/7 [==============================] - 0s 13ms/step - loss: 0.0027\n",
            "Epoch 12/100\n",
            "7/7 [==============================] - 0s 12ms/step - loss: 0.0027\n",
            "Epoch 13/100\n",
            "7/7 [==============================] - 0s 11ms/step - loss: 0.0026\n",
            "Epoch 14/100\n",
            "7/7 [==============================] - 0s 11ms/step - loss: 0.0026\n",
            "Epoch 15/100\n",
            "7/7 [==============================] - 0s 11ms/step - loss: 0.0026\n",
            "Epoch 16/100\n",
            "7/7 [==============================] - 0s 10ms/step - loss: 0.0025\n",
            "Epoch 17/100\n",
            "7/7 [==============================] - 0s 10ms/step - loss: 0.0025\n",
            "Epoch 18/100\n",
            "7/7 [==============================] - 0s 12ms/step - loss: 0.0026\n",
            "Epoch 19/100\n",
            "7/7 [==============================] - 0s 10ms/step - loss: 0.0025\n",
            "Epoch 20/100\n",
            "7/7 [==============================] - 0s 10ms/step - loss: 0.0025\n",
            "Epoch 21/100\n",
            "7/7 [==============================] - 0s 11ms/step - loss: 0.0024\n",
            "Epoch 22/100\n",
            "7/7 [==============================] - 0s 16ms/step - loss: 0.0024\n",
            "Epoch 23/100\n",
            "7/7 [==============================] - 0s 24ms/step - loss: 0.0024\n",
            "Epoch 24/100\n",
            "7/7 [==============================] - 0s 18ms/step - loss: 0.0025\n",
            "Epoch 25/100\n",
            "7/7 [==============================] - 0s 17ms/step - loss: 0.0024\n",
            "Epoch 26/100\n",
            "7/7 [==============================] - 0s 17ms/step - loss: 0.0025\n",
            "Epoch 27/100\n",
            "7/7 [==============================] - 0s 17ms/step - loss: 0.0024\n",
            "Epoch 28/100\n",
            "7/7 [==============================] - 0s 18ms/step - loss: 0.0024\n",
            "Epoch 29/100\n",
            "7/7 [==============================] - 0s 16ms/step - loss: 0.0023\n",
            "Epoch 30/100\n",
            "7/7 [==============================] - 0s 15ms/step - loss: 0.0023\n",
            "Epoch 31/100\n",
            "7/7 [==============================] - 0s 17ms/step - loss: 0.0023\n",
            "Epoch 32/100\n",
            "7/7 [==============================] - 0s 17ms/step - loss: 0.0023\n",
            "Epoch 33/100\n",
            "7/7 [==============================] - 0s 17ms/step - loss: 0.0023\n",
            "Epoch 34/100\n",
            "7/7 [==============================] - 0s 16ms/step - loss: 0.0022\n",
            "Epoch 35/100\n",
            "7/7 [==============================] - 0s 17ms/step - loss: 0.0022\n",
            "Epoch 36/100\n",
            "7/7 [==============================] - 0s 18ms/step - loss: 0.0023\n",
            "Epoch 37/100\n",
            "7/7 [==============================] - 0s 16ms/step - loss: 0.0023\n",
            "Epoch 38/100\n",
            "7/7 [==============================] - 0s 17ms/step - loss: 0.0022\n",
            "Epoch 39/100\n",
            "7/7 [==============================] - 0s 18ms/step - loss: 0.0022\n",
            "Epoch 40/100\n",
            "7/7 [==============================] - 0s 17ms/step - loss: 0.0023\n",
            "Epoch 41/100\n",
            "7/7 [==============================] - 0s 17ms/step - loss: 0.0023\n",
            "Epoch 42/100\n",
            "7/7 [==============================] - 0s 16ms/step - loss: 0.0022\n",
            "Epoch 43/100\n",
            "7/7 [==============================] - 0s 17ms/step - loss: 0.0022\n",
            "Epoch 44/100\n",
            "7/7 [==============================] - 0s 16ms/step - loss: 0.0022\n",
            "Epoch 45/100\n",
            "7/7 [==============================] - 0s 16ms/step - loss: 0.0022\n",
            "Epoch 46/100\n",
            "7/7 [==============================] - 0s 21ms/step - loss: 0.0022\n",
            "Epoch 47/100\n",
            "7/7 [==============================] - 0s 17ms/step - loss: 0.0022\n",
            "Epoch 48/100\n",
            "7/7 [==============================] - 0s 21ms/step - loss: 0.0022\n",
            "Epoch 49/100\n",
            "7/7 [==============================] - 0s 18ms/step - loss: 0.0022\n",
            "Epoch 50/100\n",
            "7/7 [==============================] - 0s 19ms/step - loss: 0.0021\n",
            "Epoch 51/100\n",
            "7/7 [==============================] - 0s 20ms/step - loss: 0.0022\n",
            "Epoch 52/100\n",
            "7/7 [==============================] - 0s 17ms/step - loss: 0.0023\n",
            "Epoch 53/100\n",
            "7/7 [==============================] - 0s 11ms/step - loss: 0.0022\n",
            "Epoch 54/100\n",
            "7/7 [==============================] - 0s 11ms/step - loss: 0.0021\n",
            "Epoch 55/100\n",
            "7/7 [==============================] - 0s 12ms/step - loss: 0.0021\n",
            "Epoch 56/100\n",
            "7/7 [==============================] - 0s 11ms/step - loss: 0.0021\n",
            "Epoch 57/100\n",
            "7/7 [==============================] - 0s 12ms/step - loss: 0.0021\n",
            "Epoch 58/100\n",
            "7/7 [==============================] - 0s 11ms/step - loss: 0.0021\n",
            "Epoch 59/100\n",
            "7/7 [==============================] - 0s 11ms/step - loss: 0.0021\n",
            "Epoch 60/100\n",
            "7/7 [==============================] - 0s 12ms/step - loss: 0.0021\n",
            "Epoch 61/100\n",
            "7/7 [==============================] - 0s 11ms/step - loss: 0.0021\n",
            "Epoch 62/100\n",
            "7/7 [==============================] - 0s 11ms/step - loss: 0.0021\n",
            "Epoch 63/100\n",
            "7/7 [==============================] - 0s 11ms/step - loss: 0.0021\n",
            "Epoch 64/100\n",
            "7/7 [==============================] - 0s 11ms/step - loss: 0.0022\n",
            "Epoch 65/100\n",
            "7/7 [==============================] - 0s 12ms/step - loss: 0.0021\n",
            "Epoch 66/100\n",
            "7/7 [==============================] - 0s 11ms/step - loss: 0.0020\n",
            "Epoch 67/100\n",
            "7/7 [==============================] - 0s 11ms/step - loss: 0.0021\n",
            "Epoch 68/100\n",
            "7/7 [==============================] - 0s 11ms/step - loss: 0.0021\n",
            "Epoch 69/100\n",
            "7/7 [==============================] - 0s 14ms/step - loss: 0.0020\n",
            "Epoch 70/100\n",
            "7/7 [==============================] - 0s 11ms/step - loss: 0.0021\n",
            "Epoch 71/100\n",
            "7/7 [==============================] - 0s 11ms/step - loss: 0.0020\n",
            "Epoch 72/100\n",
            "7/7 [==============================] - 0s 12ms/step - loss: 0.0021\n",
            "Epoch 73/100\n",
            "7/7 [==============================] - 0s 12ms/step - loss: 0.0020\n",
            "Epoch 74/100\n",
            "7/7 [==============================] - 0s 11ms/step - loss: 0.0021\n",
            "Epoch 75/100\n",
            "7/7 [==============================] - 0s 12ms/step - loss: 0.0020\n",
            "Epoch 76/100\n",
            "7/7 [==============================] - 0s 12ms/step - loss: 0.0020\n",
            "Epoch 77/100\n",
            "7/7 [==============================] - 0s 11ms/step - loss: 0.0020\n",
            "Epoch 78/100\n",
            "7/7 [==============================] - 0s 11ms/step - loss: 0.0020\n",
            "Epoch 79/100\n",
            "7/7 [==============================] - 0s 11ms/step - loss: 0.0020\n",
            "Epoch 80/100\n",
            "7/7 [==============================] - 0s 11ms/step - loss: 0.0021\n",
            "Epoch 81/100\n",
            "7/7 [==============================] - 0s 14ms/step - loss: 0.0020\n",
            "Epoch 82/100\n",
            "7/7 [==============================] - 0s 11ms/step - loss: 0.0020\n",
            "Epoch 83/100\n",
            "7/7 [==============================] - 0s 11ms/step - loss: 0.0020\n",
            "Epoch 84/100\n",
            "7/7 [==============================] - 0s 11ms/step - loss: 0.0020\n",
            "Epoch 85/100\n",
            "7/7 [==============================] - 0s 11ms/step - loss: 0.0020\n",
            "Epoch 86/100\n",
            "7/7 [==============================] - 0s 12ms/step - loss: 0.0020\n",
            "Epoch 87/100\n",
            "7/7 [==============================] - 0s 11ms/step - loss: 0.0020\n",
            "Epoch 88/100\n",
            "7/7 [==============================] - 0s 11ms/step - loss: 0.0020\n",
            "Epoch 89/100\n",
            "7/7 [==============================] - 0s 11ms/step - loss: 0.0020\n",
            "Epoch 90/100\n",
            "7/7 [==============================] - 0s 11ms/step - loss: 0.0021\n",
            "Epoch 91/100\n",
            "7/7 [==============================] - 0s 13ms/step - loss: 0.0022\n",
            "Epoch 92/100\n",
            "7/7 [==============================] - 0s 11ms/step - loss: 0.0019\n",
            "Epoch 93/100\n",
            "7/7 [==============================] - 0s 14ms/step - loss: 0.0019\n",
            "Epoch 94/100\n",
            "7/7 [==============================] - 0s 11ms/step - loss: 0.0019\n",
            "Epoch 95/100\n",
            "7/7 [==============================] - 0s 10ms/step - loss: 0.0019\n",
            "Epoch 96/100\n",
            "7/7 [==============================] - 0s 12ms/step - loss: 0.0020\n",
            "Epoch 97/100\n",
            "7/7 [==============================] - 0s 11ms/step - loss: 0.0020\n",
            "Epoch 98/100\n",
            "7/7 [==============================] - 0s 12ms/step - loss: 0.0021\n",
            "Epoch 99/100\n",
            "7/7 [==============================] - 0s 11ms/step - loss: 0.0019\n",
            "Epoch 100/100\n",
            "7/7 [==============================] - 0s 12ms/step - loss: 0.0019\n"
          ]
        },
        {
          "output_type": "execute_result",
          "data": {
            "text/plain": [
              "<keras.src.callbacks.History at 0x7af5bf64d270>"
            ]
          },
          "metadata": {},
          "execution_count": 61
        }
      ]
    },
    {
      "cell_type": "code",
      "source": [
        "model_ls= keras.Sequential([keras.layers.LSTM(50, activation=\"relu\", input_shape=(50,1), return_sequences=False),\n",
        "keras.layers.Dense(1, activation=\"linear\")])\n",
        "model_ls.summary()"
      ],
      "metadata": {
        "id": "UZifYE67EEir",
        "colab": {
          "base_uri": "https://localhost:8080/"
        },
        "outputId": "8be3a77c-86ef-4647-e89a-02430d150db2"
      },
      "execution_count": null,
      "outputs": [
        {
          "output_type": "stream",
          "name": "stdout",
          "text": [
            "Model: \"sequential_6\"\n",
            "_________________________________________________________________\n",
            " Layer (type)                Output Shape              Param #   \n",
            "=================================================================\n",
            " lstm_3 (LSTM)               (None, 50)                10400     \n",
            "                                                                 \n",
            " dense_6 (Dense)             (None, 1)                 51        \n",
            "                                                                 \n",
            "=================================================================\n",
            "Total params: 10451 (40.82 KB)\n",
            "Trainable params: 10451 (40.82 KB)\n",
            "Non-trainable params: 0 (0.00 Byte)\n",
            "_________________________________________________________________\n"
          ]
        }
      ]
    },
    {
      "cell_type": "code",
      "source": [
        "model.fit(X_train, y_train, epochs = 100, batch_size = 32)\n"
      ],
      "metadata": {
        "colab": {
          "base_uri": "https://localhost:8080/"
        },
        "id": "MRahxUa2MKRs",
        "outputId": "6d4ad279-1706-4f74-b5f2-085a033f67e2"
      },
      "execution_count": null,
      "outputs": [
        {
          "output_type": "stream",
          "name": "stdout",
          "text": [
            "Epoch 1/100\n",
            "7/7 [==============================] - 0s 11ms/step - loss: 0.0017\n",
            "Epoch 2/100\n",
            "7/7 [==============================] - 0s 12ms/step - loss: 0.0016\n",
            "Epoch 3/100\n",
            "7/7 [==============================] - 0s 12ms/step - loss: 0.0017\n",
            "Epoch 4/100\n",
            "7/7 [==============================] - 0s 12ms/step - loss: 0.0017\n",
            "Epoch 5/100\n",
            "7/7 [==============================] - 0s 11ms/step - loss: 0.0017\n",
            "Epoch 6/100\n",
            "7/7 [==============================] - 0s 11ms/step - loss: 0.0017\n",
            "Epoch 7/100\n",
            "7/7 [==============================] - 0s 12ms/step - loss: 0.0016\n",
            "Epoch 8/100\n",
            "7/7 [==============================] - 0s 12ms/step - loss: 0.0017\n",
            "Epoch 9/100\n",
            "7/7 [==============================] - 0s 14ms/step - loss: 0.0017\n",
            "Epoch 10/100\n",
            "7/7 [==============================] - 0s 11ms/step - loss: 0.0017\n",
            "Epoch 11/100\n",
            "7/7 [==============================] - 0s 12ms/step - loss: 0.0016\n",
            "Epoch 12/100\n",
            "7/7 [==============================] - 0s 13ms/step - loss: 0.0017\n",
            "Epoch 13/100\n",
            "7/7 [==============================] - 0s 11ms/step - loss: 0.0017\n",
            "Epoch 14/100\n",
            "7/7 [==============================] - 0s 12ms/step - loss: 0.0016\n",
            "Epoch 15/100\n",
            "7/7 [==============================] - 0s 12ms/step - loss: 0.0017\n",
            "Epoch 16/100\n",
            "7/7 [==============================] - 0s 12ms/step - loss: 0.0017\n",
            "Epoch 17/100\n",
            "7/7 [==============================] - 0s 12ms/step - loss: 0.0016\n",
            "Epoch 18/100\n",
            "7/7 [==============================] - 0s 11ms/step - loss: 0.0016\n",
            "Epoch 19/100\n",
            "7/7 [==============================] - 0s 12ms/step - loss: 0.0017\n",
            "Epoch 20/100\n",
            "7/7 [==============================] - 0s 12ms/step - loss: 0.0016\n",
            "Epoch 21/100\n",
            "7/7 [==============================] - 0s 13ms/step - loss: 0.0017\n",
            "Epoch 22/100\n",
            "7/7 [==============================] - 0s 13ms/step - loss: 0.0016\n",
            "Epoch 23/100\n",
            "7/7 [==============================] - 0s 12ms/step - loss: 0.0016\n",
            "Epoch 24/100\n",
            "7/7 [==============================] - 0s 12ms/step - loss: 0.0016\n",
            "Epoch 25/100\n",
            "7/7 [==============================] - 0s 12ms/step - loss: 0.0016\n",
            "Epoch 26/100\n",
            "7/7 [==============================] - 0s 12ms/step - loss: 0.0017\n",
            "Epoch 27/100\n",
            "7/7 [==============================] - 0s 12ms/step - loss: 0.0016\n",
            "Epoch 28/100\n",
            "7/7 [==============================] - 0s 12ms/step - loss: 0.0016\n",
            "Epoch 29/100\n",
            "7/7 [==============================] - 0s 11ms/step - loss: 0.0016\n",
            "Epoch 30/100\n",
            "7/7 [==============================] - 0s 12ms/step - loss: 0.0016\n",
            "Epoch 31/100\n",
            "7/7 [==============================] - 0s 12ms/step - loss: 0.0016\n",
            "Epoch 32/100\n",
            "7/7 [==============================] - 0s 13ms/step - loss: 0.0016\n",
            "Epoch 33/100\n",
            "7/7 [==============================] - 0s 12ms/step - loss: 0.0016\n",
            "Epoch 34/100\n",
            "7/7 [==============================] - 0s 11ms/step - loss: 0.0017\n",
            "Epoch 35/100\n",
            "7/7 [==============================] - 0s 11ms/step - loss: 0.0016\n",
            "Epoch 36/100\n",
            "7/7 [==============================] - 0s 11ms/step - loss: 0.0017\n",
            "Epoch 37/100\n",
            "7/7 [==============================] - 0s 12ms/step - loss: 0.0016\n",
            "Epoch 38/100\n",
            "7/7 [==============================] - 0s 11ms/step - loss: 0.0016\n",
            "Epoch 39/100\n",
            "7/7 [==============================] - 0s 12ms/step - loss: 0.0016\n",
            "Epoch 40/100\n",
            "7/7 [==============================] - 0s 12ms/step - loss: 0.0017\n",
            "Epoch 41/100\n",
            "7/7 [==============================] - 0s 12ms/step - loss: 0.0017\n",
            "Epoch 42/100\n",
            "7/7 [==============================] - 0s 12ms/step - loss: 0.0015\n",
            "Epoch 43/100\n",
            "7/7 [==============================] - 0s 14ms/step - loss: 0.0015\n",
            "Epoch 44/100\n",
            "7/7 [==============================] - 0s 11ms/step - loss: 0.0015\n",
            "Epoch 45/100\n",
            "7/7 [==============================] - 0s 11ms/step - loss: 0.0016\n",
            "Epoch 46/100\n",
            "7/7 [==============================] - 0s 12ms/step - loss: 0.0016\n",
            "Epoch 47/100\n",
            "7/7 [==============================] - 0s 12ms/step - loss: 0.0018\n",
            "Epoch 48/100\n",
            "7/7 [==============================] - 0s 11ms/step - loss: 0.0016\n",
            "Epoch 49/100\n",
            "7/7 [==============================] - 0s 11ms/step - loss: 0.0015\n",
            "Epoch 50/100\n",
            "7/7 [==============================] - 0s 11ms/step - loss: 0.0017\n",
            "Epoch 51/100\n",
            "7/7 [==============================] - 0s 12ms/step - loss: 0.0016\n",
            "Epoch 52/100\n",
            "7/7 [==============================] - 0s 11ms/step - loss: 0.0016\n",
            "Epoch 53/100\n",
            "7/7 [==============================] - 0s 12ms/step - loss: 0.0017\n",
            "Epoch 54/100\n",
            "7/7 [==============================] - 0s 12ms/step - loss: 0.0016\n",
            "Epoch 55/100\n",
            "7/7 [==============================] - 0s 15ms/step - loss: 0.0016\n",
            "Epoch 56/100\n",
            "7/7 [==============================] - 0s 12ms/step - loss: 0.0016\n",
            "Epoch 57/100\n",
            "7/7 [==============================] - 0s 12ms/step - loss: 0.0015\n",
            "Epoch 58/100\n",
            "7/7 [==============================] - 0s 12ms/step - loss: 0.0015\n",
            "Epoch 59/100\n",
            "7/7 [==============================] - 0s 12ms/step - loss: 0.0015\n",
            "Epoch 60/100\n",
            "7/7 [==============================] - 0s 12ms/step - loss: 0.0016\n",
            "Epoch 61/100\n",
            "7/7 [==============================] - 0s 12ms/step - loss: 0.0016\n",
            "Epoch 62/100\n",
            "7/7 [==============================] - 0s 12ms/step - loss: 0.0015\n",
            "Epoch 63/100\n",
            "7/7 [==============================] - 0s 13ms/step - loss: 0.0015\n",
            "Epoch 64/100\n",
            "7/7 [==============================] - 0s 12ms/step - loss: 0.0015\n",
            "Epoch 65/100\n",
            "7/7 [==============================] - 0s 12ms/step - loss: 0.0015\n",
            "Epoch 66/100\n",
            "7/7 [==============================] - 0s 13ms/step - loss: 0.0015\n",
            "Epoch 67/100\n",
            "7/7 [==============================] - 0s 12ms/step - loss: 0.0015\n",
            "Epoch 68/100\n",
            "7/7 [==============================] - 0s 11ms/step - loss: 0.0015\n",
            "Epoch 69/100\n",
            "7/7 [==============================] - 0s 12ms/step - loss: 0.0016\n",
            "Epoch 70/100\n",
            "7/7 [==============================] - 0s 11ms/step - loss: 0.0017\n",
            "Epoch 71/100\n",
            "7/7 [==============================] - 0s 12ms/step - loss: 0.0017\n",
            "Epoch 72/100\n",
            "7/7 [==============================] - 0s 12ms/step - loss: 0.0018\n",
            "Epoch 73/100\n",
            "7/7 [==============================] - 0s 12ms/step - loss: 0.0015\n",
            "Epoch 74/100\n",
            "7/7 [==============================] - 0s 12ms/step - loss: 0.0015\n",
            "Epoch 75/100\n",
            "7/7 [==============================] - 0s 12ms/step - loss: 0.0015\n",
            "Epoch 76/100\n",
            "7/7 [==============================] - 0s 12ms/step - loss: 0.0015\n",
            "Epoch 77/100\n",
            "7/7 [==============================] - 0s 17ms/step - loss: 0.0015\n",
            "Epoch 78/100\n",
            "7/7 [==============================] - 0s 18ms/step - loss: 0.0015\n",
            "Epoch 79/100\n",
            "7/7 [==============================] - 0s 22ms/step - loss: 0.0016\n",
            "Epoch 80/100\n",
            "7/7 [==============================] - 0s 18ms/step - loss: 0.0016\n",
            "Epoch 81/100\n",
            "7/7 [==============================] - 0s 18ms/step - loss: 0.0016\n",
            "Epoch 82/100\n",
            "7/7 [==============================] - 0s 17ms/step - loss: 0.0015\n",
            "Epoch 83/100\n",
            "7/7 [==============================] - 0s 19ms/step - loss: 0.0015\n",
            "Epoch 84/100\n",
            "7/7 [==============================] - 0s 16ms/step - loss: 0.0015\n",
            "Epoch 85/100\n",
            "7/7 [==============================] - 0s 18ms/step - loss: 0.0015\n",
            "Epoch 86/100\n",
            "7/7 [==============================] - 0s 19ms/step - loss: 0.0014\n",
            "Epoch 87/100\n",
            "7/7 [==============================] - 0s 16ms/step - loss: 0.0015\n",
            "Epoch 88/100\n",
            "7/7 [==============================] - 0s 17ms/step - loss: 0.0015\n",
            "Epoch 89/100\n",
            "7/7 [==============================] - 0s 19ms/step - loss: 0.0015\n",
            "Epoch 90/100\n",
            "7/7 [==============================] - 0s 20ms/step - loss: 0.0016\n",
            "Epoch 91/100\n",
            "7/7 [==============================] - 0s 18ms/step - loss: 0.0016\n",
            "Epoch 92/100\n",
            "7/7 [==============================] - 0s 18ms/step - loss: 0.0015\n",
            "Epoch 93/100\n",
            "7/7 [==============================] - 0s 19ms/step - loss: 0.0016\n",
            "Epoch 94/100\n",
            "7/7 [==============================] - 0s 17ms/step - loss: 0.0016\n",
            "Epoch 95/100\n",
            "7/7 [==============================] - 0s 18ms/step - loss: 0.0016\n",
            "Epoch 96/100\n",
            "7/7 [==============================] - 0s 18ms/step - loss: 0.0015\n",
            "Epoch 97/100\n",
            "7/7 [==============================] - 0s 16ms/step - loss: 0.0015\n",
            "Epoch 98/100\n",
            "7/7 [==============================] - 0s 17ms/step - loss: 0.0015\n",
            "Epoch 99/100\n",
            "7/7 [==============================] - 0s 18ms/step - loss: 0.0015\n",
            "Epoch 100/100\n",
            "7/7 [==============================] - 0s 16ms/step - loss: 0.0015\n"
          ]
        },
        {
          "output_type": "execute_result",
          "data": {
            "text/plain": [
              "<keras.src.callbacks.History at 0x7af5bedec910>"
            ]
          },
          "metadata": {},
          "execution_count": 67
        }
      ]
    },
    {
      "cell_type": "code",
      "source": [],
      "metadata": {
        "id": "TZp9XMNiNhbc"
      },
      "execution_count": null,
      "outputs": []
    }
  ]
}